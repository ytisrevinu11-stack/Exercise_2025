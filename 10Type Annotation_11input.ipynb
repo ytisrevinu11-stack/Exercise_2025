{
  "nbformat": 4,
  "nbformat_minor": 0,
  "metadata": {
    "colab": {
      "provenance": [],
      "authorship_tag": "ABX9TyNldbCTEwnRC4l7YafCtUvB",
      "include_colab_link": true
    },
    "kernelspec": {
      "name": "python3",
      "display_name": "Python 3"
    },
    "language_info": {
      "name": "python"
    }
  },
  "cells": [
    {
      "cell_type": "markdown",
      "metadata": {
        "id": "view-in-github",
        "colab_type": "text"
      },
      "source": [
        "<a href=\"https://colab.research.google.com/github/ytisrevinu11-stack/Exercise_2025/blob/main/Untitled11.ipynb\" target=\"_parent\"><img src=\"https://colab.research.google.com/assets/colab-badge.svg\" alt=\"Open In Colab\"/></a>"
      ]
    },
    {
      "cell_type": "markdown",
      "source": [
        "010"
      ],
      "metadata": {
        "id": "mTKz70Obbfq-"
      }
    },
    {
      "cell_type": "code",
      "execution_count": 1,
      "metadata": {
        "id": "4WPJg7zQbW6w"
      },
      "outputs": [],
      "source": [
        "name = '홍길동'\n",
        "age = 17\n",
        "weight = 70.7\n",
        "is_badman = False"
      ]
    },
    {
      "cell_type": "code",
      "source": [
        "name: str = '홍길동'\n",
        "age: int = 17\n",
        "weight: float = 70.7\n",
        "is_badman: bool = False"
      ],
      "metadata": {
        "id": "Z4dLFnyHbvbj"
      },
      "execution_count": 2,
      "outputs": []
    },
    {
      "cell_type": "code",
      "source": [
        "booklist:list[str] = ['삼국지', '수호자', '초한지']"
      ],
      "metadata": {
        "id": "oRZIPp7wcDRc"
      },
      "execution_count": 3,
      "outputs": []
    },
    {
      "cell_type": "code",
      "source": [
        "island: tuple[str, float, float] = ('독도', 131.52, 37.14)"
      ],
      "metadata": {
        "id": "ls_bWwWicPWp"
      },
      "execution_count": 4,
      "outputs": []
    },
    {
      "cell_type": "code",
      "source": [
        "top4_familyname: dict[str, int] = {'김씨':123456, '나씨':345811, '박씨':963123, '이씨':865909}"
      ],
      "metadata": {
        "id": "sm5ZIbHWceEZ"
      },
      "execution_count": 5,
      "outputs": []
    },
    {
      "cell_type": "code",
      "source": [
        "fruits: set[str] = {'사과', '배', '수박', '참외', '딸기'}"
      ],
      "metadata": {
        "id": "tbdEiTBDc6V5"
      },
      "execution_count": 6,
      "outputs": []
    },
    {
      "cell_type": "code",
      "source": [
        "print(__annotations__)"
      ],
      "metadata": {
        "colab": {
          "base_uri": "https://localhost:8080/"
        },
        "id": "6fdeFpdRdGYE",
        "outputId": "32b63e9c-c7fc-4f13-844a-c5526c91fb43"
      },
      "execution_count": 7,
      "outputs": [
        {
          "output_type": "stream",
          "name": "stdout",
          "text": [
            "{'name': <class 'str'>, 'age': <class 'int'>, 'weight': <class 'float'>, 'is_badman': <class 'bool'>, 'booklist': list[str], 'island': tuple[str, float, float], 'top4_familyname': dict[str, int], 'fruits': set[str]}\n"
          ]
        }
      ]
    },
    {
      "cell_type": "code",
      "source": [
        "fruits: set[str] = {'사과', '배', '수박', '참외', '딸기'}\n",
        "fruits = {1, 2, 3, 4, 5}\n",
        "print(fruits)"
      ],
      "metadata": {
        "colab": {
          "base_uri": "https://localhost:8080/"
        },
        "id": "qusFFZWSdLc3",
        "outputId": "7856d8ef-dab0-4807-bb23-0e9c206ffb0f"
      },
      "execution_count": 9,
      "outputs": [
        {
          "output_type": "stream",
          "name": "stdout",
          "text": [
            "{1, 2, 3, 4, 5}\n"
          ]
        }
      ]
    },
    {
      "cell_type": "markdown",
      "source": [
        "011"
      ],
      "metadata": {
        "id": "Kh1UMdxhdoVj"
      }
    },
    {
      "cell_type": "code",
      "source": [
        "userInput = input()\n",
        "print('사용자가 입력한 값은<'+userInput+'>입니다.')"
      ],
      "metadata": {
        "colab": {
          "base_uri": "https://localhost:8080/"
        },
        "id": "AWBsKmtWdjjq",
        "outputId": "15e3578e-60f3-4382-e14b-3a841b0749ca"
      },
      "execution_count": 10,
      "outputs": [
        {
          "output_type": "stream",
          "name": "stdout",
          "text": [
            "10\n",
            "사용자가 입력한 값은<10>입니다.\n"
          ]
        }
      ]
    },
    {
      "cell_type": "code",
      "source": [
        "userInput = input('값을 입력하세요: ')\n",
        "print('사용자가 입력한 값은<'+userInput+'> 입니다.')"
      ],
      "metadata": {
        "colab": {
          "base_uri": "https://localhost:8080/"
        },
        "id": "Gzk6h_LGd-Nt",
        "outputId": "23c9be1f-be58-402b-d6e7-846ee1407f39"
      },
      "execution_count": 11,
      "outputs": [
        {
          "output_type": "stream",
          "name": "stdout",
          "text": [
            "값을 입력하세요: yes\n",
            "사용자가 입력한 값은<yes> 입니다.\n"
          ]
        }
      ]
    }
  ]
}
