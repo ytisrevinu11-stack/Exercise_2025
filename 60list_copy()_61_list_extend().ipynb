{
  "nbformat": 4,
  "nbformat_minor": 0,
  "metadata": {
    "colab": {
      "provenance": [],
      "authorship_tag": "ABX9TyOXgqezv/7KEUj+FKqv3QoZ",
      "include_colab_link": true
    },
    "kernelspec": {
      "name": "python3",
      "display_name": "Python 3"
    },
    "language_info": {
      "name": "python"
    }
  },
  "cells": [
    {
      "cell_type": "markdown",
      "metadata": {
        "id": "view-in-github",
        "colab_type": "text"
      },
      "source": [
        "<a href=\"https://colab.research.google.com/github/ytisrevinu11-stack/Exercise_2025/blob/main/60list_copy()_61_list_extend().ipynb\" target=\"_parent\"><img src=\"https://colab.research.google.com/assets/colab-badge.svg\" alt=\"Open In Colab\"/></a>"
      ]
    },
    {
      "cell_type": "markdown",
      "source": [
        "060"
      ],
      "metadata": {
        "id": "tRyAsAiyOWG3"
      }
    },
    {
      "cell_type": "code",
      "execution_count": 1,
      "metadata": {
        "colab": {
          "base_uri": "https://localhost:8080/"
        },
        "id": "2xvDkJiLOKjf",
        "outputId": "dad08a14-2790-4c2b-a8cc-8e454f686e07"
      },
      "outputs": [
        {
          "output_type": "stream",
          "name": "stdout",
          "text": [
            "원본 리스트: ['사과', '배', '오렌지', '수박', '참외']\n",
            "복사본 리스트: ['사과', '배', '오렌지', '수박']\n"
          ]
        }
      ],
      "source": [
        "fruits = ['사과', '배', '오렌지', '수박', '참외']\n",
        "buffer = fruits.copy()\n",
        "del buffer[-1]\n",
        "print(f'원본 리스트: {fruits}')\n",
        "print(f'복사본 리스트: {buffer}')"
      ]
    },
    {
      "cell_type": "markdown",
      "source": [
        "061"
      ],
      "metadata": {
        "id": "DQtGg0mLOzJX"
      }
    },
    {
      "cell_type": "code",
      "source": [
        "world = []\n",
        "asia = ['한국', '중국', '일본']\n",
        "europe = ['독일', '프랑스', '영국']\n",
        "america = ['미국', '캐나다', '멕시코']"
      ],
      "metadata": {
        "id": "gQ28w1ZnOvCr"
      },
      "execution_count": 3,
      "outputs": []
    },
    {
      "cell_type": "code",
      "source": [
        "world.extend(asia)\n",
        "print(world)"
      ],
      "metadata": {
        "colab": {
          "base_uri": "https://localhost:8080/"
        },
        "id": "8wMlruq6PLCE",
        "outputId": "50c98946-97d5-476b-aaf9-a86888351769"
      },
      "execution_count": 4,
      "outputs": [
        {
          "output_type": "stream",
          "name": "stdout",
          "text": [
            "['한국', '중국', '일본']\n"
          ]
        }
      ]
    },
    {
      "cell_type": "code",
      "source": [
        "world.extend(europe)\n",
        "print(world)\n",
        "world.extend(america)\n",
        "print(world)"
      ],
      "metadata": {
        "colab": {
          "base_uri": "https://localhost:8080/"
        },
        "id": "jDxrl18-PVV_",
        "outputId": "fb8abb35-87dc-48bc-dafb-6e53bc475d02"
      },
      "execution_count": 5,
      "outputs": [
        {
          "output_type": "stream",
          "name": "stdout",
          "text": [
            "['한국', '중국', '일본', '독일', '프랑스', '영국']\n",
            "['한국', '중국', '일본', '독일', '프랑스', '영국', '미국', '캐나다', '멕시코']\n"
          ]
        }
      ]
    },
    {
      "cell_type": "code",
      "source": [
        "world.clear()\n",
        "world += asia\n",
        "world += europe\n",
        "print(world)"
      ],
      "metadata": {
        "colab": {
          "base_uri": "https://localhost:8080/"
        },
        "id": "1Qbk-hQoPgdr",
        "outputId": "51a5ddbe-735b-448f-b0bb-5348e4542a5d"
      },
      "execution_count": 6,
      "outputs": [
        {
          "output_type": "stream",
          "name": "stdout",
          "text": [
            "['한국', '중국', '일본', '독일', '프랑스', '영국']\n"
          ]
        }
      ]
    }
  ]
}