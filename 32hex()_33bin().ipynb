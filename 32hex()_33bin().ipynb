{
  "nbformat": 4,
  "nbformat_minor": 0,
  "metadata": {
    "colab": {
      "provenance": [],
      "authorship_tag": "ABX9TyNE6qIY4NQXPa+fG5IyAMoZ",
      "include_colab_link": true
    },
    "kernelspec": {
      "name": "python3",
      "display_name": "Python 3"
    },
    "language_info": {
      "name": "python"
    }
  },
  "cells": [
    {
      "cell_type": "markdown",
      "metadata": {
        "id": "view-in-github",
        "colab_type": "text"
      },
      "source": [
        "<a href=\"https://colab.research.google.com/github/ytisrevinu11-stack/Exercise_2025/blob/main/32hex()_33bin().ipynb\" target=\"_parent\"><img src=\"https://colab.research.google.com/assets/colab-badge.svg\" alt=\"Open In Colab\"/></a>"
      ]
    },
    {
      "cell_type": "markdown",
      "source": [
        "032"
      ],
      "metadata": {
        "id": "XsUfrQqtU6Zo"
      }
    },
    {
      "cell_type": "code",
      "execution_count": 1,
      "metadata": {
        "colab": {
          "base_uri": "https://localhost:8080/"
        },
        "id": "U1r6JV9GUxpm",
        "outputId": "a2565eed-0b4f-42ec-efed-72fb639c3d67"
      },
      "outputs": [
        {
          "output_type": "stream",
          "name": "stdout",
          "text": [
            "0x61\n",
            "0x62\n"
          ]
        }
      ],
      "source": [
        "h1 = hex(97)\n",
        "h2 = hex(98)\n",
        "print(h1)\n",
        "print(h2)"
      ]
    },
    {
      "cell_type": "code",
      "source": [
        "print(h1 + h2)"
      ],
      "metadata": {
        "colab": {
          "base_uri": "https://localhost:8080/"
        },
        "id": "wnr5CBGBVFYn",
        "outputId": "2de1742c-4b8e-46ae-d5de-97e563436f24"
      },
      "execution_count": 2,
      "outputs": [
        {
          "output_type": "stream",
          "name": "stdout",
          "text": [
            "0x610x62\n"
          ]
        }
      ]
    },
    {
      "cell_type": "code",
      "source": [
        "hexStr1 = '0x11'\n",
        "hexStr2 = '0x2a'\n",
        "int1 = int(hexStr1, base = 16)\n",
        "int2 = int(hexStr2, base = 16)\n",
        "hexAnswer = hex(int1 + int2)\n",
        "print(f'{hexStr1} + {hexStr2} = {hexAnswer}')"
      ],
      "metadata": {
        "colab": {
          "base_uri": "https://localhost:8080/"
        },
        "id": "ls7SZyJqVPTI",
        "outputId": "b092b60f-d1a2-46d7-9e44-7340182bbd4e"
      },
      "execution_count": 3,
      "outputs": [
        {
          "output_type": "stream",
          "name": "stdout",
          "text": [
            "0x11 + 0x2a = 0x3b\n"
          ]
        }
      ]
    },
    {
      "cell_type": "markdown",
      "source": [
        "033"
      ],
      "metadata": {
        "id": "ACLtCn0bV6j3"
      }
    },
    {
      "cell_type": "code",
      "source": [
        "b1 = bin(97)\n",
        "b2 = bin(98)\n",
        "print(b1)\n",
        "print(b2)"
      ],
      "metadata": {
        "colab": {
          "base_uri": "https://localhost:8080/"
        },
        "id": "thi2DduVV5Qn",
        "outputId": "5fa953d2-010c-41b5-819f-2138103c7f8b"
      },
      "execution_count": 4,
      "outputs": [
        {
          "output_type": "stream",
          "name": "stdout",
          "text": [
            "0b1100001\n",
            "0b1100010\n"
          ]
        }
      ]
    },
    {
      "cell_type": "code",
      "source": [
        "print(b1 + b2)"
      ],
      "metadata": {
        "colab": {
          "base_uri": "https://localhost:8080/"
        },
        "id": "DRyNSxnqWFoD",
        "outputId": "d2b37801-2de6-4840-967b-73136c198eaf"
      },
      "execution_count": 5,
      "outputs": [
        {
          "output_type": "stream",
          "name": "stdout",
          "text": [
            "0b11000010b1100010\n"
          ]
        }
      ]
    },
    {
      "cell_type": "code",
      "source": [
        "binStr1 = '0b1011'\n",
        "binStr2 = '0b1001'\n",
        "int1 = int(binStr1, base = 2)\n",
        "int2 = int(binStr2, base = 2)\n",
        "binAnswer = bin(int1 + int2)\n",
        "print(f'{binStr1} + {binStr2} = {binAnswer}')"
      ],
      "metadata": {
        "colab": {
          "base_uri": "https://localhost:8080/"
        },
        "id": "qFnaL9NbWJl0",
        "outputId": "442f492c-15e1-4dfc-c873-b1b68cb1ce36"
      },
      "execution_count": 6,
      "outputs": [
        {
          "output_type": "stream",
          "name": "stdout",
          "text": [
            "0b1011 + 0b1001 = 0b10100\n"
          ]
        }
      ]
    }
  ]
}