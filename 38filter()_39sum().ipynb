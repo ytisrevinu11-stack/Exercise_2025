{
  "nbformat": 4,
  "nbformat_minor": 0,
  "metadata": {
    "colab": {
      "provenance": [],
      "authorship_tag": "ABX9TyNZDpyYQx31YG1W774tWVQt",
      "include_colab_link": true
    },
    "kernelspec": {
      "name": "python3",
      "display_name": "Python 3"
    },
    "language_info": {
      "name": "python"
    }
  },
  "cells": [
    {
      "cell_type": "markdown",
      "metadata": {
        "id": "view-in-github",
        "colab_type": "text"
      },
      "source": [
        "<a href=\"https://colab.research.google.com/github/ytisrevinu11-stack/Exercise_2025/blob/main/38filter()_39sum().ipynb\" target=\"_parent\"><img src=\"https://colab.research.google.com/assets/colab-badge.svg\" alt=\"Open In Colab\"/></a>"
      ]
    },
    {
      "cell_type": "markdown",
      "source": [
        "038"
      ],
      "metadata": {
        "id": "h__gaHz0c-gD"
      }
    },
    {
      "cell_type": "markdown",
      "source": [
        "filter(func, iterable)"
      ],
      "metadata": {
        "id": "fi82kDPtdFI5"
      }
    },
    {
      "cell_type": "code",
      "execution_count": 1,
      "metadata": {
        "id": "FsrWjRd-cvUy"
      },
      "outputs": [],
      "source": [
        "def getPrime(x):\n",
        "  if x == 2:\n",
        "    return True\n",
        "  if x <= 1 or x%2 == 0:\n",
        "    return False\n",
        "\n",
        "  for i in range(3, int(x**(1/2))+1, 2):\n",
        "    if x%i == 0:\n",
        "      return False\n",
        "  else:\n",
        "    return True"
      ]
    },
    {
      "cell_type": "code",
      "source": [
        "intList = [x for x in range(1, 101)]\n",
        "ret = filter(getPrime, intList)\n",
        "for p in ret:\n",
        "  print(p, end='')"
      ],
      "metadata": {
        "colab": {
          "base_uri": "https://localhost:8080/"
        },
        "id": "zukDKCChduIm",
        "outputId": "6e4abccf-ebe6-411f-a408-2dc62f05ec60"
      },
      "execution_count": 4,
      "outputs": [
        {
          "output_type": "stream",
          "name": "stdout",
          "text": [
            "2357111317192329313741434753596167717379838997"
          ]
        }
      ]
    },
    {
      "cell_type": "markdown",
      "source": [
        "039"
      ],
      "metadata": {
        "id": "MZ4D025HeUXf"
      }
    },
    {
      "cell_type": "code",
      "source": [
        "numList = [1,3,5,7,9]\n",
        "ret = sum(numList)\n",
        "print(ret)"
      ],
      "metadata": {
        "colab": {
          "base_uri": "https://localhost:8080/"
        },
        "id": "WgSz6ZJ8eEUI",
        "outputId": "97c9cf45-cd3f-4223-a9fb-9521a95092d9"
      },
      "execution_count": 5,
      "outputs": [
        {
          "output_type": "stream",
          "name": "stdout",
          "text": [
            "25\n"
          ]
        }
      ]
    },
    {
      "cell_type": "code",
      "source": [
        "ret = sum(numList, 10)        #sum(numList) + 10\n",
        "print(ret)"
      ],
      "metadata": {
        "colab": {
          "base_uri": "https://localhost:8080/"
        },
        "id": "UNATrPbTefse",
        "outputId": "2a5172e0-900a-4eaa-91db-bc3f69d35d74"
      },
      "execution_count": 6,
      "outputs": [
        {
          "output_type": "stream",
          "name": "stdout",
          "text": [
            "35\n"
          ]
        }
      ]
    },
    {
      "cell_type": "code",
      "source": [
        "randomList = [1,2, 'SAMSUNG', 'LG']\n",
        "ret = sum(randomList)"
      ],
      "metadata": {
        "colab": {
          "base_uri": "https://localhost:8080/",
          "height": 164
        },
        "id": "eZ3JTE2get6I",
        "outputId": "3603795f-e975-47dd-feee-d9eaf7f399c2"
      },
      "execution_count": 7,
      "outputs": [
        {
          "output_type": "error",
          "ename": "TypeError",
          "evalue": "unsupported operand type(s) for +: 'int' and 'str'",
          "traceback": [
            "\u001b[0;31m---------------------------------------------------------------------------\u001b[0m",
            "\u001b[0;31mTypeError\u001b[0m                                 Traceback (most recent call last)",
            "\u001b[0;32m/tmp/ipython-input-396784599.py\u001b[0m in \u001b[0;36m<cell line: 0>\u001b[0;34m()\u001b[0m\n\u001b[1;32m      1\u001b[0m \u001b[0mrandomList\u001b[0m \u001b[0;34m=\u001b[0m \u001b[0;34m[\u001b[0m\u001b[0;36m1\u001b[0m\u001b[0;34m,\u001b[0m\u001b[0;36m2\u001b[0m\u001b[0;34m,\u001b[0m \u001b[0;34m'SAMSUNG'\u001b[0m\u001b[0;34m,\u001b[0m \u001b[0;34m'LG'\u001b[0m\u001b[0;34m]\u001b[0m\u001b[0;34m\u001b[0m\u001b[0;34m\u001b[0m\u001b[0m\n\u001b[0;32m----> 2\u001b[0;31m \u001b[0mret\u001b[0m \u001b[0;34m=\u001b[0m \u001b[0msum\u001b[0m\u001b[0;34m(\u001b[0m\u001b[0mrandomList\u001b[0m\u001b[0;34m)\u001b[0m\u001b[0;34m\u001b[0m\u001b[0;34m\u001b[0m\u001b[0m\n\u001b[0m",
            "\u001b[0;31mTypeError\u001b[0m: unsupported operand type(s) for +: 'int' and 'str'"
          ]
        }
      ]
    }
  ]
}