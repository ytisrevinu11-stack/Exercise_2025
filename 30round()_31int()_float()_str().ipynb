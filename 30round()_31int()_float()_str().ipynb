{
  "nbformat": 4,
  "nbformat_minor": 0,
  "metadata": {
    "colab": {
      "provenance": [],
      "authorship_tag": "ABX9TyNCP2qpckGeidpYF/Dxl+cc",
      "include_colab_link": true
    },
    "kernelspec": {
      "name": "python3",
      "display_name": "Python 3"
    },
    "language_info": {
      "name": "python"
    }
  },
  "cells": [
    {
      "cell_type": "markdown",
      "metadata": {
        "id": "view-in-github",
        "colab_type": "text"
      },
      "source": [
        "<a href=\"https://colab.research.google.com/github/ytisrevinu11-stack/Exercise_2025/blob/main/30round()_31int()_float()_str().ipynb\" target=\"_parent\"><img src=\"https://colab.research.google.com/assets/colab-badge.svg\" alt=\"Open In Colab\"/></a>"
      ]
    },
    {
      "cell_type": "markdown",
      "source": [
        "030"
      ],
      "metadata": {
        "id": "NJJEsG4hQUcz"
      }
    },
    {
      "cell_type": "code",
      "execution_count": 1,
      "metadata": {
        "colab": {
          "base_uri": "https://localhost:8080/"
        },
        "id": "8VBvOLI6QK6E",
        "outputId": "228e7e12-6aa8-474f-9a66-5c45a7b1e5e2"
      },
      "outputs": [
        {
          "output_type": "stream",
          "name": "stdout",
          "text": [
            "42\n"
          ]
        }
      ],
      "source": [
        "ret = round(42.195)\n",
        "print(ret)"
      ]
    },
    {
      "cell_type": "code",
      "source": [
        "ret = round(42.195, 0)\n",
        "print(ret)"
      ],
      "metadata": {
        "colab": {
          "base_uri": "https://localhost:8080/"
        },
        "id": "yii7pJVtQdG6",
        "outputId": "742e09fb-1188-44c5-94e7-ecf862b456e2"
      },
      "execution_count": 2,
      "outputs": [
        {
          "output_type": "stream",
          "name": "stdout",
          "text": [
            "42.0\n"
          ]
        }
      ]
    },
    {
      "cell_type": "code",
      "source": [
        "ret = round(42.195, 1)\n",
        "print(ret)"
      ],
      "metadata": {
        "colab": {
          "base_uri": "https://localhost:8080/"
        },
        "id": "kZVdwh6vQs8j",
        "outputId": "9224ac88-8343-457f-a329-564f4052ce0c"
      },
      "execution_count": 3,
      "outputs": [
        {
          "output_type": "stream",
          "name": "stdout",
          "text": [
            "42.2\n"
          ]
        }
      ]
    },
    {
      "cell_type": "code",
      "source": [
        "ret = round(42.195, -1)\n",
        "print(ret)"
      ],
      "metadata": {
        "colab": {
          "base_uri": "https://localhost:8080/"
        },
        "id": "VXkqza5eQzq5",
        "outputId": "3fff99f1-6791-42ef-b085-1f4d2f89c415"
      },
      "execution_count": 4,
      "outputs": [
        {
          "output_type": "stream",
          "name": "stdout",
          "text": [
            "40.0\n"
          ]
        }
      ]
    },
    {
      "cell_type": "markdown",
      "source": [
        "031"
      ],
      "metadata": {
        "id": "jygiREfeQ8Z1"
      }
    },
    {
      "cell_type": "code",
      "source": [
        "floatData = 1234.5\n",
        "intData = int(floatData)\n",
        "print(f'intData {intData} 자료형은 {type(intData)}입니다.')"
      ],
      "metadata": {
        "colab": {
          "base_uri": "https://localhost:8080/"
        },
        "id": "yfqX9ebBQ5hZ",
        "outputId": "6465f096-a722-42c5-bfd9-2dc6906007ce"
      },
      "execution_count": 6,
      "outputs": [
        {
          "output_type": "stream",
          "name": "stdout",
          "text": [
            "intData 1234 자료형은 <class 'int'>입니다.\n"
          ]
        }
      ]
    },
    {
      "cell_type": "code",
      "source": [
        "strData = '1234'\n",
        "intData = int(strData)\n",
        "print(f'intData {intData} 자료형은 {type(intData)}입니다.')"
      ],
      "metadata": {
        "colab": {
          "base_uri": "https://localhost:8080/"
        },
        "id": "IARLHBASRWqM",
        "outputId": "ce90ac3b-a83e-48e8-bc76-fa55778874c6"
      },
      "execution_count": 7,
      "outputs": [
        {
          "output_type": "stream",
          "name": "stdout",
          "text": [
            "intData 1234 자료형은 <class 'int'>입니다.\n"
          ]
        }
      ]
    },
    {
      "cell_type": "code",
      "source": [
        "strData = '1234.5'\n",
        "intData = int(strData)"
      ],
      "metadata": {
        "colab": {
          "base_uri": "https://localhost:8080/",
          "height": 164
        },
        "id": "lMFk7VQRRyzD",
        "outputId": "34294721-bf73-4800-e7f9-a13cb46c55f8"
      },
      "execution_count": 8,
      "outputs": [
        {
          "output_type": "error",
          "ename": "ValueError",
          "evalue": "invalid literal for int() with base 10: '1234.5'",
          "traceback": [
            "\u001b[0;31m---------------------------------------------------------------------------\u001b[0m",
            "\u001b[0;31mValueError\u001b[0m                                Traceback (most recent call last)",
            "\u001b[0;32m/tmp/ipython-input-3767622251.py\u001b[0m in \u001b[0;36m<cell line: 0>\u001b[0;34m()\u001b[0m\n\u001b[1;32m      1\u001b[0m \u001b[0mstrData\u001b[0m \u001b[0;34m=\u001b[0m \u001b[0;34m'1234.5'\u001b[0m\u001b[0;34m\u001b[0m\u001b[0;34m\u001b[0m\u001b[0m\n\u001b[0;32m----> 2\u001b[0;31m \u001b[0mintData\u001b[0m \u001b[0;34m=\u001b[0m \u001b[0mint\u001b[0m\u001b[0;34m(\u001b[0m\u001b[0mstrData\u001b[0m\u001b[0;34m)\u001b[0m\u001b[0;34m\u001b[0m\u001b[0;34m\u001b[0m\u001b[0m\n\u001b[0m",
            "\u001b[0;31mValueError\u001b[0m: invalid literal for int() with base 10: '1234.5'"
          ]
        }
      ]
    },
    {
      "cell_type": "code",
      "source": [
        "strData = '1234.5'\n",
        "floatData = float(strData)\n",
        "print(f'floatData {floatData} 자료형은 {type(floatData)}입니다.')"
      ],
      "metadata": {
        "colab": {
          "base_uri": "https://localhost:8080/"
        },
        "id": "OSQnf41AR86L",
        "outputId": "f07592db-3bb8-44e2-c00c-214f562ce08e"
      },
      "execution_count": 9,
      "outputs": [
        {
          "output_type": "stream",
          "name": "stdout",
          "text": [
            "floatData 1234.5 자료형은 <class 'float'>입니다.\n"
          ]
        }
      ]
    },
    {
      "cell_type": "code",
      "source": [
        "print(float('2E5'))\n",
        "print(float('2e-3'))"
      ],
      "metadata": {
        "colab": {
          "base_uri": "https://localhost:8080/"
        },
        "id": "L50lagRNSYya",
        "outputId": "1b875306-b480-4a84-cfa8-6d2e3c0b270c"
      },
      "execution_count": 10,
      "outputs": [
        {
          "output_type": "stream",
          "name": "stdout",
          "text": [
            "200000.0\n",
            "0.002\n"
          ]
        }
      ]
    },
    {
      "cell_type": "code",
      "source": [
        "intData = 1234; strData1 = str(intData)\n",
        "floatData1 = 1234.5; strData2 = str(floatData1)\n",
        "floatData2 = 1e-3; strData3 = str(floatData2)\n",
        "print(f'정수 {intData} => 문자열 {strData1}, {type(strData1)}')\n",
        "print(f'실수 {floatData1} => 문자열 {strData2}, {type(strData2)}')\n",
        "print(f'실수 {floatData2} => 문자열 {strData3}, {type(strData3)}')"
      ],
      "metadata": {
        "colab": {
          "base_uri": "https://localhost:8080/"
        },
        "id": "dLhjp2B1SmYD",
        "outputId": "62c9859e-7c2e-4565-8598-ac11645c9e06"
      },
      "execution_count": 11,
      "outputs": [
        {
          "output_type": "stream",
          "name": "stdout",
          "text": [
            "정수 1234 => 문자열 1234, <class 'str'>\n",
            "실수 1234.5 => 문자열 1234.5, <class 'str'>\n",
            "실수 0.001 => 문자열 0.001, <class 'str'>\n"
          ]
        }
      ]
    }
  ]
}