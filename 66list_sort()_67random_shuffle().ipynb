{
  "nbformat": 4,
  "nbformat_minor": 0,
  "metadata": {
    "colab": {
      "provenance": [],
      "authorship_tag": "ABX9TyOqwN/ZZJuq6ddvc3avj+W3",
      "include_colab_link": true
    },
    "kernelspec": {
      "name": "python3",
      "display_name": "Python 3"
    },
    "language_info": {
      "name": "python"
    }
  },
  "cells": [
    {
      "cell_type": "markdown",
      "metadata": {
        "id": "view-in-github",
        "colab_type": "text"
      },
      "source": [
        "<a href=\"https://colab.research.google.com/github/ytisrevinu11-stack/Exercise_2025/blob/main/66list_sort()_67random_shuffle().ipynb\" target=\"_parent\"><img src=\"https://colab.research.google.com/assets/colab-badge.svg\" alt=\"Open In Colab\"/></a>"
      ]
    },
    {
      "cell_type": "markdown",
      "source": [
        "066"
      ],
      "metadata": {
        "id": "bCyYIe22YC48"
      }
    },
    {
      "cell_type": "code",
      "execution_count": 1,
      "metadata": {
        "colab": {
          "base_uri": "https://localhost:8080/"
        },
        "id": "LKpduUP2Xbku",
        "outputId": "73b9e312-bc5a-4094-ffd2-46df9c183a79"
      },
      "outputs": [
        {
          "output_type": "stream",
          "name": "stdout",
          "text": [
            "['Aemy', 'Bob', 'Kelly', 'Mary', 'Michale', 'Sams', 'Tom']\n"
          ]
        }
      ],
      "source": [
        "nameList = ['Mary', 'Sams', 'Aemy', 'Tom', 'Michale', 'Bob', 'Kelly']\n",
        "nameList.sort()\n",
        "print(nameList)"
      ]
    },
    {
      "cell_type": "code",
      "source": [
        "nameList = ['Mary', 'Sams', 'Aemy', 'Tom', 'Michale', 'Bob', 'Kelly']\n",
        "nameList.sort(reverse=True)\n",
        "print(nameList)"
      ],
      "metadata": {
        "colab": {
          "base_uri": "https://localhost:8080/"
        },
        "id": "8tawIifDYZJ8",
        "outputId": "44204f45-bf5e-4f49-dd38-fb7b4db6ad82"
      },
      "execution_count": 2,
      "outputs": [
        {
          "output_type": "stream",
          "name": "stdout",
          "text": [
            "['Tom', 'Sams', 'Michale', 'Mary', 'Kelly', 'Bob', 'Aemy']\n"
          ]
        }
      ]
    },
    {
      "cell_type": "markdown",
      "source": [
        "067"
      ],
      "metadata": {
        "id": "ZpmRN8teYxZP"
      }
    },
    {
      "cell_type": "code",
      "source": [
        "import random\n",
        "numList = list(range(1,11))\n",
        "random.shuffle(numList)\n",
        "print(numList)"
      ],
      "metadata": {
        "colab": {
          "base_uri": "https://localhost:8080/"
        },
        "id": "YHM7ulXbYniQ",
        "outputId": "49b3378d-3488-4dfe-90ef-a2780f34a282"
      },
      "execution_count": 4,
      "outputs": [
        {
          "output_type": "stream",
          "name": "stdout",
          "text": [
            "[5, 10, 3, 7, 8, 6, 4, 9, 2, 1]\n"
          ]
        }
      ]
    },
    {
      "cell_type": "code",
      "source": [
        "numList = list(range(1, 11))\n",
        "copied = numList.copy()\n",
        "random.shuffle(copide)\n",
        "print(f'numList: {numList}')\n",
        "print(f'copied: {copied}')"
      ],
      "metadata": {
        "colab": {
          "base_uri": "https://localhost:8080/"
        },
        "id": "yJOYztbHZCSD",
        "outputId": "53b55536-7a17-4ee0-fbe0-f60f71457969"
      },
      "execution_count": 7,
      "outputs": [
        {
          "output_type": "stream",
          "name": "stdout",
          "text": [
            "numList: [1, 2, 3, 4, 5, 6, 7, 8, 9, 10]\n",
            "copied: [1, 2, 3, 4, 5, 6, 7, 8, 9, 10]\n"
          ]
        }
      ]
    }
  ]
}