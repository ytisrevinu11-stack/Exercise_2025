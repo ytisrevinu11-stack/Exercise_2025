{
  "nbformat": 4,
  "nbformat_minor": 0,
  "metadata": {
    "colab": {
      "provenance": [],
      "authorship_tag": "ABX9TyO8TdjRqpNOeGQ4PRhqpy2K",
      "include_colab_link": true
    },
    "kernelspec": {
      "name": "python3",
      "display_name": "Python 3"
    },
    "language_info": {
      "name": "python"
    }
  },
  "cells": [
    {
      "cell_type": "markdown",
      "metadata": {
        "id": "view-in-github",
        "colab_type": "text"
      },
      "source": [
        "<a href=\"https://colab.research.google.com/github/ytisrevinu11-stack/Exercise_2025/blob/main/24logical_operators_25bitwise_operators.ipynb\" target=\"_parent\"><img src=\"https://colab.research.google.com/assets/colab-badge.svg\" alt=\"Open In Colab\"/></a>"
      ]
    },
    {
      "cell_type": "markdown",
      "source": [
        "024"
      ],
      "metadata": {
        "id": "FlVxwtL6H0BE"
      }
    },
    {
      "cell_type": "code",
      "execution_count": 1,
      "metadata": {
        "colab": {
          "base_uri": "https://localhost:8080/"
        },
        "id": "2pcRr0NbHhso",
        "outputId": "83c11f49-d6c9-4263-f1ba-5e4c034aac59"
      },
      "outputs": [
        {
          "output_type": "stream",
          "name": "stdout",
          "text": [
            "False\n",
            "True\n",
            "True\n",
            "False\n",
            "True\n",
            "False\n"
          ]
        }
      ],
      "source": [
        "x = 1; y = 2\n",
        "strData1 = 'Hello'; strData2 = 'python'\n",
        "flag1 = x == y                       #False\n",
        "flag2 = x < y                        #True\n",
        "flag3 = strData1 != strData2         #True\n",
        "flag4 = strData1 > strData2          #False\n",
        "\n",
        "print(flag1 and flag2)\n",
        "print(flag2 and flag3)\n",
        "print(flag3 or flag4)\n",
        "print(flag1 or flag4)\n",
        "print(not flag1)\n",
        "print(not flag2)"
      ]
    },
    {
      "cell_type": "markdown",
      "source": [
        "025"
      ],
      "metadata": {
        "id": "xWAbz5kIJIS6"
      }
    },
    {
      "cell_type": "code",
      "source": [
        "bit1 = 0x61; bit2 = 0x62\n",
        "print(hex(bit1 & bit2))    #0x60이 출력됨\n",
        "print(hex(bit1 | bit2))    #0x63이 출력됨\n",
        "print(hex(bit1 ^ bit2))    #0x3이 출력됨\n",
        "print(hex(bit1 >> 1))      #0x30이 출력됨\n",
        "print(hex(bit1 << 2))      #0x184가 출력됨"
      ],
      "metadata": {
        "colab": {
          "base_uri": "https://localhost:8080/"
        },
        "id": "OOA17XkWI7V2",
        "outputId": "c0f2513f-c960-47d4-cd97-481667d7f2f7"
      },
      "execution_count": 2,
      "outputs": [
        {
          "output_type": "stream",
          "name": "stdout",
          "text": [
            "0x60\n",
            "0x63\n",
            "0x3\n",
            "0x30\n",
            "0x184\n"
          ]
        }
      ]
    },
    {
      "cell_type": "code",
      "source": [
        "byte1 = 0x6b\n",
        "\n",
        "#하위 4비트 추출\n",
        "lower_4bit = byte1 & 0x0f\n",
        "\n",
        "#상위 4비트 추출\n",
        "upper_4bit = (byte1 >> 4) & 0x0f\n",
        "\n",
        "print(hex(lower_4bit))\n",
        "print(hex(upper_4bit))"
      ],
      "metadata": {
        "colab": {
          "base_uri": "https://localhost:8080/"
        },
        "id": "P_G9rPtaKO0I",
        "outputId": "f1a4d4e7-5b0b-439a-8425-8c8cd99bd81f"
      },
      "execution_count": 3,
      "outputs": [
        {
          "output_type": "stream",
          "name": "stdout",
          "text": [
            "0xb\n",
            "0x6\n"
          ]
        }
      ]
    }
  ]
}