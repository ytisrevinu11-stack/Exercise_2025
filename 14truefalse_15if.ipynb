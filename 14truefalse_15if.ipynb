{
  "nbformat": 4,
  "nbformat_minor": 0,
  "metadata": {
    "colab": {
      "provenance": [],
      "authorship_tag": "ABX9TyP2HVS1zaIVOlClv5kl3y2Z",
      "include_colab_link": true
    },
    "kernelspec": {
      "name": "python3",
      "display_name": "Python 3"
    },
    "language_info": {
      "name": "python"
    }
  },
  "cells": [
    {
      "cell_type": "markdown",
      "metadata": {
        "id": "view-in-github",
        "colab_type": "text"
      },
      "source": [
        "<a href=\"https://colab.research.google.com/github/ytisrevinu11-stack/Exercise_2025/blob/main/14truefalse_15if.ipynb\" target=\"_parent\"><img src=\"https://colab.research.google.com/assets/colab-badge.svg\" alt=\"Open In Colab\"/></a>"
      ]
    },
    {
      "cell_type": "markdown",
      "source": [
        "014"
      ],
      "metadata": {
        "id": "RTOvEM7-zqqm"
      }
    },
    {
      "cell_type": "code",
      "execution_count": null,
      "metadata": {
        "colab": {
          "base_uri": "https://localhost:8080/"
        },
        "id": "oOX47UsVv8i4",
        "outputId": "e21be65b-beda-4f58-9bf1-1b8288ba86bc"
      },
      "outputs": [
        {
          "output_type": "stream",
          "name": "stdout",
          "text": [
            "True\n",
            "False\n"
          ]
        }
      ],
      "source": [
        "flag1 = True\n",
        "flag2 = False\n",
        "print(flag1 == 1)\n",
        "print(flag2 != 0)"
      ]
    },
    {
      "cell_type": "markdown",
      "source": [
        "015"
      ],
      "metadata": {
        "id": "OzRI9HZSz1Xc"
      }
    },
    {
      "cell_type": "code",
      "source": [
        "x = 1\n",
        "y = 2\n",
        "if x < y:\n",
        "  print('x가 y보다 작습니다.')\n",
        "else:\n",
        "  print('x가 y보다 작지 않습니다.')"
      ],
      "metadata": {
        "colab": {
          "base_uri": "https://localhost:8080/"
        },
        "id": "HKuJbQUSzmxx",
        "outputId": "ebf64d9c-8dc3-4c55-db8e-c6a6caee6a9f"
      },
      "execution_count": null,
      "outputs": [
        {
          "output_type": "stream",
          "name": "stdout",
          "text": [
            "x가 y보다 작습니다.\n"
          ]
        }
      ]
    },
    {
      "cell_type": "code",
      "source": [
        "x = 1\n",
        "y = 2\n",
        "if x < y:\n",
        "  print('x가 y보다 작습니다.')\n",
        "elif x > y:\n",
        "  print('x가 y보다 큽니다.')\n",
        "else:\n",
        "  print('x와 y가 같습니다.')"
      ],
      "metadata": {
        "colab": {
          "base_uri": "https://localhost:8080/"
        },
        "id": "D5abDf4K0M7t",
        "outputId": "555006f0-b243-4aa9-df70-5ffa683b2d36"
      },
      "execution_count": null,
      "outputs": [
        {
          "output_type": "stream",
          "name": "stdout",
          "text": [
            "x가 y보다 작습니다.\n"
          ]
        }
      ]
    },
    {
      "cell_type": "code",
      "source": [],
      "metadata": {
        "id": "7wVa0fDx02BR"
      },
      "execution_count": null,
      "outputs": []
    }
  ]
}