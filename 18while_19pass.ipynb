{
  "nbformat": 4,
  "nbformat_minor": 0,
  "metadata": {
    "colab": {
      "provenance": [],
      "authorship_tag": "ABX9TyN/mMEge+eAUmkNZ3sUYKo9",
      "include_colab_link": true
    },
    "kernelspec": {
      "name": "python3",
      "display_name": "Python 3"
    },
    "language_info": {
      "name": "python"
    }
  },
  "cells": [
    {
      "cell_type": "markdown",
      "metadata": {
        "id": "view-in-github",
        "colab_type": "text"
      },
      "source": [
        "<a href=\"https://colab.research.google.com/github/ytisrevinu11-stack/Exercise_2025/blob/main/18while_19pass.ipynb\" target=\"_parent\"><img src=\"https://colab.research.google.com/assets/colab-badge.svg\" alt=\"Open In Colab\"/></a>"
      ]
    },
    {
      "cell_type": "markdown",
      "source": [
        "018"
      ],
      "metadata": {
        "id": "RCcFNnHq4PAf"
      }
    },
    {
      "cell_type": "code",
      "execution_count": 1,
      "metadata": {
        "colab": {
          "base_uri": "https://localhost:8080/"
        },
        "id": "hX0jIGWX4KYh",
        "outputId": "14b737b5-248d-4161-fa5c-c7d17a3a71e8"
      },
      "outputs": [
        {
          "output_type": "stream",
          "name": "stdout",
          "text": [
            "3\n",
            "4\n",
            "5\n"
          ]
        }
      ],
      "source": [
        "x = 0\n",
        "while x < 10:\n",
        "  x = x + 1\n",
        "  if x < 3:\n",
        "    continue\n",
        "\n",
        "  print(x)\n",
        "  if x > 4:\n",
        "    break"
      ]
    },
    {
      "cell_type": "code",
      "source": [
        "n = 1\n",
        "total = 0\n",
        "while True:\n",
        "  total = total + n\n",
        "  if total > 100000:\n",
        "    print('1+2+...+n 값이 10만 보다 커지게 되는 n:', n)\n",
        "    print('이 때 총합은', total)\n",
        "    break\n",
        "  n = n + 1"
      ],
      "metadata": {
        "colab": {
          "base_uri": "https://localhost:8080/"
        },
        "id": "UHYxQZIl5Ptq",
        "outputId": "ae320ede-2214-46c7-f8d6-1cb66f1a2c60"
      },
      "execution_count": 2,
      "outputs": [
        {
          "output_type": "stream",
          "name": "stdout",
          "text": [
            "1+2+...+n 값이 10만 보다 커지게 되는 n: 447\n",
            "이 때 총합은 100128\n"
          ]
        }
      ]
    },
    {
      "cell_type": "markdown",
      "source": [
        "019"
      ],
      "metadata": {
        "id": "oZC_flQs57KJ"
      }
    },
    {
      "cell_type": "code",
      "source": [
        "for sport in ['축구', '야구', '배구', '농구']:\n",
        "  if sport == '축구':\n",
        "    pass\n",
        "\n",
        "  if sport == '야구':\n",
        "    pass"
      ],
      "metadata": {
        "id": "8-FyWjjk52_t"
      },
      "execution_count": 3,
      "outputs": []
    },
    {
      "cell_type": "code",
      "source": [
        "def getImageLink(url):\n",
        "  pass"
      ],
      "metadata": {
        "id": "wyCFYkAm6ZHL"
      },
      "execution_count": 4,
      "outputs": []
    },
    {
      "cell_type": "code",
      "source": [],
      "metadata": {
        "id": "m0LQ1fCB6gyB"
      },
      "execution_count": null,
      "outputs": []
    }
  ]
}