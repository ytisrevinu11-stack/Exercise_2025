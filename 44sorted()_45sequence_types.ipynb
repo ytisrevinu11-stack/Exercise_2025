{
  "nbformat": 4,
  "nbformat_minor": 0,
  "metadata": {
    "colab": {
      "provenance": [],
      "authorship_tag": "ABX9TyPT2rf3jFbxdEJ+WTc7H/Kv",
      "include_colab_link": true
    },
    "kernelspec": {
      "name": "python3",
      "display_name": "Python 3"
    },
    "language_info": {
      "name": "python"
    }
  },
  "cells": [
    {
      "cell_type": "markdown",
      "metadata": {
        "id": "view-in-github",
        "colab_type": "text"
      },
      "source": [
        "<a href=\"https://colab.research.google.com/github/ytisrevinu11-stack/Exercise_2025/blob/main/44sorted()_45sequence_types.ipynb\" target=\"_parent\"><img src=\"https://colab.research.google.com/assets/colab-badge.svg\" alt=\"Open In Colab\"/></a>"
      ]
    },
    {
      "cell_type": "markdown",
      "source": [
        "044"
      ],
      "metadata": {
        "id": "iReqC9pNmwUr"
      }
    },
    {
      "cell_type": "code",
      "execution_count": 1,
      "metadata": {
        "colab": {
          "base_uri": "https://localhost:8080/"
        },
        "id": "aQrg58S6mu_G",
        "outputId": "b38cb009-ef74-479c-c52f-6a8fc697fac9"
      },
      "outputs": [
        {
          "output_type": "stream",
          "name": "stdout",
          "text": [
            "[1, 8, 27, 39, 42, 44]\n",
            "[44, 42, 39, 27, 8, 1]\n",
            "[42, 1, 39, 27, 44, 8]\n"
          ]
        }
      ],
      "source": [
        "listData = [42,1,39,27,44,8]\n",
        "ret1 = sorted(listData)                     #listData를 오름차순으로 정렬\n",
        "ret2 = sorted(listData, reverse=True)       #listData를 내림차순으로 정렬\n",
        "print(ret1)\n",
        "print(ret2)\n",
        "print(listData)"
      ]
    },
    {
      "cell_type": "code",
      "source": [
        "tupleData = ('사과', '배', '오렌지', '수박', '참외')\n",
        "ret = sorted(tupleData)\n",
        "print(ret)"
      ],
      "metadata": {
        "colab": {
          "base_uri": "https://localhost:8080/"
        },
        "id": "6EOh9U1xvWZc",
        "outputId": "6fbb7743-5d21-4fd5-fd6e-30bd74a92af6"
      },
      "execution_count": 2,
      "outputs": [
        {
          "output_type": "stream",
          "name": "stdout",
          "text": [
            "['배', '사과', '수박', '오렌지', '참외']\n"
          ]
        }
      ]
    },
    {
      "cell_type": "code",
      "source": [
        "strData = 'I love python'\n",
        "ret = sorted(strData)\n",
        "print(ret)"
      ],
      "metadata": {
        "colab": {
          "base_uri": "https://localhost:8080/"
        },
        "id": "QC5OtU5-vnID",
        "outputId": "972da97c-a315-45be-80e2-06663560cee3"
      },
      "execution_count": 3,
      "outputs": [
        {
          "output_type": "stream",
          "name": "stdout",
          "text": [
            "[' ', ' ', 'I', 'e', 'h', 'l', 'n', 'o', 'o', 'p', 't', 'v', 'y']\n"
          ]
        }
      ]
    },
    {
      "cell_type": "code",
      "source": [
        "population = {'김씨':2834, '이씨':2288, '박씨':1889}\n",
        "ret = sorted(population)\n",
        "print(ret)"
      ],
      "metadata": {
        "colab": {
          "base_uri": "https://localhost:8080/"
        },
        "id": "RD1MEAWxv4zl",
        "outputId": "da46340e-c491-4d69-b744-9d95148a3ae4"
      },
      "execution_count": 4,
      "outputs": [
        {
          "output_type": "stream",
          "name": "stdout",
          "text": [
            "['김씨', '박씨', '이씨']\n"
          ]
        }
      ]
    },
    {
      "cell_type": "markdown",
      "source": [
        "045"
      ],
      "metadata": {
        "id": "ch0xdJxUwxPZ"
      }
    },
    {
      "cell_type": "code",
      "source": [
        "listData = [1,2,3,4,5]"
      ],
      "metadata": {
        "id": "sDX4hrgBwjL1"
      },
      "execution_count": 5,
      "outputs": []
    },
    {
      "cell_type": "code",
      "source": [
        "tupleData = (1,2,3,4,5)"
      ],
      "metadata": {
        "id": "I6PRJwh7xGuh"
      },
      "execution_count": 6,
      "outputs": []
    },
    {
      "cell_type": "code",
      "source": [
        "strData1 = '010-1234-5678'\n",
        "strData2 = \"사랑해요 파이썬!\"\n",
        "strData3 = 'I love python!'"
      ],
      "metadata": {
        "id": "eZbPlYPAxKkq"
      },
      "execution_count": 7,
      "outputs": []
    },
    {
      "cell_type": "code",
      "source": [
        "bstr = b'Hello python!'"
      ],
      "metadata": {
        "id": "6pFTQEfwxf91"
      },
      "execution_count": 8,
      "outputs": []
    }
  ]
}