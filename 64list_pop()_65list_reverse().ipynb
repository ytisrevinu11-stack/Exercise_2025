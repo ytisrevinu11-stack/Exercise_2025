{
  "nbformat": 4,
  "nbformat_minor": 0,
  "metadata": {
    "colab": {
      "provenance": [],
      "authorship_tag": "ABX9TyNtPsEJVEq1Sax7gXW8/5KW",
      "include_colab_link": true
    },
    "kernelspec": {
      "name": "python3",
      "display_name": "Python 3"
    },
    "language_info": {
      "name": "python"
    }
  },
  "cells": [
    {
      "cell_type": "markdown",
      "metadata": {
        "id": "view-in-github",
        "colab_type": "text"
      },
      "source": [
        "<a href=\"https://colab.research.google.com/github/ytisrevinu11-stack/Exercise_2025/blob/main/64list_pop()_65list_reverse().ipynb\" target=\"_parent\"><img src=\"https://colab.research.google.com/assets/colab-badge.svg\" alt=\"Open In Colab\"/></a>"
      ]
    },
    {
      "cell_type": "markdown",
      "source": [
        "064"
      ],
      "metadata": {
        "id": "ab8Anvf9TdZD"
      }
    },
    {
      "cell_type": "code",
      "source": [
        "numbers = [14,5,18,45,10,43]\n",
        "for _ in range(len(numbers)):\n",
        "    ret = numbers.pop()\n",
        "    print(f'pop()으로 추출된 값: {ret}, numbers = {numbers}')"
      ],
      "metadata": {
        "colab": {
          "base_uri": "https://localhost:8080/"
        },
        "id": "2IGslFGTUr_o",
        "outputId": "e9bd392c-99a1-47ae-cebb-ee8582fbd18b"
      },
      "execution_count": 9,
      "outputs": [
        {
          "output_type": "stream",
          "name": "stdout",
          "text": [
            "pop()으로 추출된 값: 43, numbers = [14, 5, 18, 45, 10]\n",
            "pop()으로 추출된 값: 10, numbers = [14, 5, 18, 45]\n",
            "pop()으로 추출된 값: 45, numbers = [14, 5, 18]\n",
            "pop()으로 추출된 값: 18, numbers = [14, 5]\n",
            "pop()으로 추출된 값: 5, numbers = [14]\n",
            "pop()으로 추출된 값: 14, numbers = []\n"
          ]
        }
      ]
    },
    {
      "cell_type": "code",
      "source": [
        "numbers = [14,5,18,45,10,43]\n",
        "ret = numbers.pop(3)\n",
        "print(f'pop()으로 추출된 값: {ret}, numbers = {numbers}')"
      ],
      "metadata": {
        "colab": {
          "base_uri": "https://localhost:8080/"
        },
        "id": "wbWVfU-BVmD_",
        "outputId": "11fc1b3d-f814-4762-9e6f-95bca4f466d9"
      },
      "execution_count": 10,
      "outputs": [
        {
          "output_type": "stream",
          "name": "stdout",
          "text": [
            "pop()으로 추출된 값: 45, numbers = [14, 5, 18, 10, 43]\n"
          ]
        }
      ]
    },
    {
      "cell_type": "markdown",
      "source": [
        "065"
      ],
      "metadata": {
        "id": "VQR-DCNlWMX4"
      }
    },
    {
      "cell_type": "code",
      "source": [
        "numbers = [1,2,3,4,5]\n",
        "ret = reversed(numbers)\n",
        "print(list(ret))\n",
        "print(numbers)"
      ],
      "metadata": {
        "colab": {
          "base_uri": "https://localhost:8080/"
        },
        "id": "kdv1aOAuWKHI",
        "outputId": "da1da1cf-226d-4969-8f9f-e74d208de770"
      },
      "execution_count": 11,
      "outputs": [
        {
          "output_type": "stream",
          "name": "stdout",
          "text": [
            "[5, 4, 3, 2, 1]\n",
            "[1, 2, 3, 4, 5]\n"
          ]
        }
      ]
    },
    {
      "cell_type": "code",
      "source": [
        "numbers = [1,2,3,4,5]\n",
        "numbers.reverse()\n",
        "print(numbers)"
      ],
      "metadata": {
        "colab": {
          "base_uri": "https://localhost:8080/"
        },
        "id": "no6b5oSAWe0c",
        "outputId": "63784262-e01f-4d71-aa8c-9ef206a8e6ff"
      },
      "execution_count": 12,
      "outputs": [
        {
          "output_type": "stream",
          "name": "stdout",
          "text": [
            "[5, 4, 3, 2, 1]\n"
          ]
        }
      ]
    }
  ]
}