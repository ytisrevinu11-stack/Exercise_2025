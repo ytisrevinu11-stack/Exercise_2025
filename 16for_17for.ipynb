{
  "nbformat": 4,
  "nbformat_minor": 0,
  "metadata": {
    "colab": {
      "provenance": [],
      "authorship_tag": "ABX9TyOX4rDPaZC8A9kwdfialoKX",
      "include_colab_link": true
    },
    "kernelspec": {
      "name": "python3",
      "display_name": "Python 3"
    },
    "language_info": {
      "name": "python"
    }
  },
  "cells": [
    {
      "cell_type": "markdown",
      "metadata": {
        "id": "view-in-github",
        "colab_type": "text"
      },
      "source": [
        "<a href=\"https://colab.research.google.com/github/ytisrevinu11-stack/Exercise_2025/blob/main/16for_17for.ipynb\" target=\"_parent\"><img src=\"https://colab.research.google.com/assets/colab-badge.svg\" alt=\"Open In Colab\"/></a>"
      ]
    },
    {
      "cell_type": "markdown",
      "source": [
        "016"
      ],
      "metadata": {
        "id": "A3ViFlS81bVw"
      }
    },
    {
      "cell_type": "code",
      "execution_count": 1,
      "metadata": {
        "colab": {
          "base_uri": "https://localhost:8080/"
        },
        "id": "YDGOWznl1WAg",
        "outputId": "f8d70f48-a607-4852-96a5-279707c2650a"
      },
      "outputs": [
        {
          "output_type": "stream",
          "name": "stdout",
          "text": [
            "a-b-c-d-e-f-"
          ]
        }
      ],
      "source": [
        "strData = 'abcdef'\n",
        "for c in strData:\n",
        "  print(c, end='-')"
      ]
    },
    {
      "cell_type": "code",
      "source": [
        "listData = [1,2,3,4,5]"
      ],
      "metadata": {
        "id": "gx_CaRIl1rY6"
      },
      "execution_count": 4,
      "outputs": []
    },
    {
      "cell_type": "code",
      "source": [
        "ascii_codes = {'a':97, 'b':98, 'c':99}\n",
        "for code in ascii_codes.items():\n",
        "  print(code)"
      ],
      "metadata": {
        "colab": {
          "base_uri": "https://localhost:8080/"
        },
        "id": "pFM6lz5p155y",
        "outputId": "51820f57-f746-46e8-fb4f-52c770307864"
      },
      "execution_count": 3,
      "outputs": [
        {
          "output_type": "stream",
          "name": "stdout",
          "text": [
            "('a', 97)\n",
            "('b', 98)\n",
            "('c', 99)\n"
          ]
        }
      ]
    },
    {
      "cell_type": "code",
      "source": [
        "for i in range(10):\n",
        "  print(i, end='#')"
      ],
      "metadata": {
        "colab": {
          "base_uri": "https://localhost:8080/"
        },
        "id": "mQg4Q_jo2PD6",
        "outputId": "93a241fd-cb7f-4c7b-a771-6fc1c78c56d7"
      },
      "execution_count": 6,
      "outputs": [
        {
          "output_type": "stream",
          "name": "stdout",
          "text": [
            "0#1#2#3#4#5#6#7#8#9#"
          ]
        }
      ]
    },
    {
      "cell_type": "code",
      "source": [
        "for i in [1,2,3,4,5]:\n",
        "  print(i)\n",
        "  if i < 2:\n",
        "    continue\n",
        "  else:\n",
        "    break"
      ],
      "metadata": {
        "colab": {
          "base_uri": "https://localhost:8080/"
        },
        "id": "oLWV-FWV2sqe",
        "outputId": "c00f016d-2834-4972-bda8-03b523a02ac3"
      },
      "execution_count": 7,
      "outputs": [
        {
          "output_type": "stream",
          "name": "stdout",
          "text": [
            "1\n",
            "2\n"
          ]
        }
      ]
    },
    {
      "cell_type": "code",
      "source": [
        "for i in [1,2,3,4,5]:\n",
        "  print(i)\n",
        "  if i == 2:\n",
        "    break"
      ],
      "metadata": {
        "colab": {
          "base_uri": "https://localhost:8080/"
        },
        "id": "tk1kkQW3281Q",
        "outputId": "99d254c4-c0dd-4df0-983e-decd11b1a0f7"
      },
      "execution_count": 8,
      "outputs": [
        {
          "output_type": "stream",
          "name": "stdout",
          "text": [
            "1\n",
            "2\n"
          ]
        }
      ]
    },
    {
      "cell_type": "markdown",
      "source": [
        "017"
      ],
      "metadata": {
        "id": "gZcFusbA3J5r"
      }
    },
    {
      "cell_type": "code",
      "source": [
        "for x in [1,2,3]:\n",
        "  print(x)\n",
        "else:\n",
        "  print('Perfect!')"
      ],
      "metadata": {
        "colab": {
          "base_uri": "https://localhost:8080/"
        },
        "id": "8f0zC9mH3IGj",
        "outputId": "2866ce47-fc4c-45e0-b5e9-aef3f75ffc64"
      },
      "execution_count": 9,
      "outputs": [
        {
          "output_type": "stream",
          "name": "stdout",
          "text": [
            "1\n",
            "2\n",
            "3\n",
            "Perfect!\n"
          ]
        }
      ]
    },
    {
      "cell_type": "code",
      "source": [
        "for x in [1,2,3]:\n",
        "  print(x)\n",
        "  if x > 1:\n",
        "    break\n",
        "else:\n",
        "  print('Perfect!')"
      ],
      "metadata": {
        "colab": {
          "base_uri": "https://localhost:8080/"
        },
        "id": "SgmiyUwm3fVT",
        "outputId": "0ae1fc71-c56f-4ade-916b-c2fb8ae2da51"
      },
      "execution_count": 10,
      "outputs": [
        {
          "output_type": "stream",
          "name": "stdout",
          "text": [
            "1\n",
            "2\n"
          ]
        }
      ]
    },
    {
      "cell_type": "code",
      "source": [],
      "metadata": {
        "id": "44A04DAq4Bjv"
      },
      "execution_count": null,
      "outputs": []
    }
  ]
}