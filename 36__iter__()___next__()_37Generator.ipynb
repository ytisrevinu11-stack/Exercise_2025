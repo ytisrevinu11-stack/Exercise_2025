{
  "nbformat": 4,
  "nbformat_minor": 0,
  "metadata": {
    "colab": {
      "provenance": [],
      "authorship_tag": "ABX9TyNh3ucX9nBJNVtpah9DaRc9",
      "include_colab_link": true
    },
    "kernelspec": {
      "name": "python3",
      "display_name": "Python 3"
    },
    "language_info": {
      "name": "python"
    }
  },
  "cells": [
    {
      "cell_type": "markdown",
      "metadata": {
        "id": "view-in-github",
        "colab_type": "text"
      },
      "source": [
        "<a href=\"https://colab.research.google.com/github/ytisrevinu11-stack/Exercise_2025/blob/main/36__iter__()___next__()_37Generator.ipynb\" target=\"_parent\"><img src=\"https://colab.research.google.com/assets/colab-badge.svg\" alt=\"Open In Colab\"/></a>"
      ]
    },
    {
      "cell_type": "markdown",
      "source": [
        "036"
      ],
      "metadata": {
        "id": "oDGDqfQBabfK"
      }
    },
    {
      "cell_type": "code",
      "execution_count": 2,
      "metadata": {
        "colab": {
          "base_uri": "https://localhost:8080/"
        },
        "id": "m2EGlWS1aJUX",
        "outputId": "6b1f31f2-5a31-4087-d394-73a813b26cfe"
      },
      "outputs": [
        {
          "output_type": "stream",
          "name": "stdout",
          "text": [
            "01234"
          ]
        }
      ],
      "source": [
        "class MyRange:\n",
        "  def __init__(self, n):\n",
        "    self.maxn = n\n",
        "    self.current = 0\n",
        "\n",
        "  def __iter__(self):\n",
        "    return self\n",
        "\n",
        "  def __next__(self):\n",
        "    if self.current >= self.maxn:\n",
        "      raise StopIteration\n",
        "    else:\n",
        "      ret = self.current\n",
        "      self.current += 1\n",
        "      return ret\n",
        "\n",
        "intList = MyRange(5)\n",
        "for i in intList:\n",
        "  print(i, end='')"
      ]
    },
    {
      "cell_type": "markdown",
      "source": [
        "037"
      ],
      "metadata": {
        "id": "vlSZ4mJMb4G5"
      }
    },
    {
      "cell_type": "code",
      "source": [
        "def MyRange(n):\n",
        "  current = 0\n",
        "  while current < n:\n",
        "    yield current\n",
        "    current += 1\n",
        "\n",
        "#제너레이터 객체 생성\n",
        "intList = MyRange(5)\n",
        "for i in intList:\n",
        "  print(i, end='')"
      ],
      "metadata": {
        "colab": {
          "base_uri": "https://localhost:8080/"
        },
        "id": "88XjX-m1bZdQ",
        "outputId": "9131dd24-98c7-4b2d-daf2-ab86bc29fc51"
      },
      "execution_count": 3,
      "outputs": [
        {
          "output_type": "stream",
          "name": "stdout",
          "text": [
            "01234"
          ]
        }
      ]
    }
  ]
}