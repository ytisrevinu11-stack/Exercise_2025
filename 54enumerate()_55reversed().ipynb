{
  "nbformat": 4,
  "nbformat_minor": 0,
  "metadata": {
    "colab": {
      "provenance": [],
      "authorship_tag": "ABX9TyPEJt9lTB+b/eexbaWupfQ5",
      "include_colab_link": true
    },
    "kernelspec": {
      "name": "python3",
      "display_name": "Python 3"
    },
    "language_info": {
      "name": "python"
    }
  },
  "cells": [
    {
      "cell_type": "markdown",
      "metadata": {
        "id": "view-in-github",
        "colab_type": "text"
      },
      "source": [
        "<a href=\"https://colab.research.google.com/github/ytisrevinu11-stack/Exercise_2025/blob/main/54enumerate()_55reversed().ipynb\" target=\"_parent\"><img src=\"https://colab.research.google.com/assets/colab-badge.svg\" alt=\"Open In Colab\"/></a>"
      ]
    },
    {
      "cell_type": "markdown",
      "source": [
        "054"
      ],
      "metadata": {
        "id": "hJpsLQi1FaYr"
      }
    },
    {
      "cell_type": "code",
      "execution_count": 1,
      "metadata": {
        "colab": {
          "base_uri": "https://localhost:8080/"
        },
        "id": "GiymtKk2E3IF",
        "outputId": "bd79b5f9-b467-4bb1-bae8-8cdcf280d11b"
      },
      "outputs": [
        {
          "output_type": "stream",
          "name": "stdout",
          "text": [
            "태양계의 0번째 천체: 태양\n",
            "태양계의 1번째 천체: 수성\n",
            "태양계의 2번째 천체: 금성\n",
            "태양계의 3번째 천체: 지구\n",
            "태양계의 4번째 천체: 화성\n",
            "태양계의 5번째 천체: 목성\n",
            "태양계의 6번째 천체: 토성\n",
            "태양계의 7번째 천체: 천왕성\n",
            "태양계의 8번째 천체: 해왕성\n"
          ]
        }
      ],
      "source": [
        "solarsys = ['태양', '수성', '금성', '지구', '화성', '목성', '토성', '천왕성', '해왕성']\n",
        "for i, body in enumerate(solarsys):\n",
        "  print(f'태양계의 {i}번째 천체: {body}')"
      ]
    },
    {
      "cell_type": "code",
      "source": [
        "seasons = ['봄', '여름', '가을', '겨울']\n",
        "print(list(enumerate(seasons, start=1)))"
      ],
      "metadata": {
        "colab": {
          "base_uri": "https://localhost:8080/"
        },
        "id": "kBkkjBpHF-aU",
        "outputId": "09dce920-aa65-47be-8afe-98b3e8453d90"
      },
      "execution_count": 2,
      "outputs": [
        {
          "output_type": "stream",
          "name": "stdout",
          "text": [
            "[(1, '봄'), (2, '여름'), (3, '가을'), (4, '겨울')]\n"
          ]
        }
      ]
    },
    {
      "cell_type": "code",
      "source": [
        "#enumerate()를 구현한 제너레이터\n",
        "def myEnumerate(iterable, start=0):\n",
        "  n = start\n",
        "  for item in iterable:\n",
        "    yield(n, item)\n",
        "    n += 1"
      ],
      "metadata": {
        "id": "zH49XqEaGOMG"
      },
      "execution_count": 3,
      "outputs": []
    },
    {
      "cell_type": "code",
      "source": [
        "print(list(myEnumerate(seasons, start=1)))"
      ],
      "metadata": {
        "colab": {
          "base_uri": "https://localhost:8080/"
        },
        "id": "TN6bznNDG1dF",
        "outputId": "b1750908-8a57-4914-d77e-b26978d1fe4e"
      },
      "execution_count": 4,
      "outputs": [
        {
          "output_type": "stream",
          "name": "stdout",
          "text": [
            "[(1, '봄'), (2, '여름'), (3, '가을'), (4, '겨울')]\n"
          ]
        }
      ]
    },
    {
      "cell_type": "markdown",
      "source": [
        "055"
      ],
      "metadata": {
        "id": "mNb5EAxdHCIl"
      }
    },
    {
      "cell_type": "code",
      "source": [
        "fruits = ('사과', '배', '오렌지', '수박')\n",
        "ret = reversed(fruits)\n",
        "print(list(ret))"
      ],
      "metadata": {
        "colab": {
          "base_uri": "https://localhost:8080/"
        },
        "id": "oOgrTegJG8mY",
        "outputId": "b30c529b-5dbe-43be-cdc5-5192ba3bb331"
      },
      "execution_count": 5,
      "outputs": [
        {
          "output_type": "stream",
          "name": "stdout",
          "text": [
            "['수박', '오렌지', '배', '사과']\n"
          ]
        }
      ]
    },
    {
      "cell_type": "code",
      "source": [
        "print(fruits)"
      ],
      "metadata": {
        "colab": {
          "base_uri": "https://localhost:8080/"
        },
        "id": "xtaLdm90HTOO",
        "outputId": "a300de08-f589-464c-e188-6a008e493137"
      },
      "execution_count": 6,
      "outputs": [
        {
          "output_type": "stream",
          "name": "stdout",
          "text": [
            "('사과', '배', '오렌지', '수박')\n"
          ]
        }
      ]
    },
    {
      "cell_type": "code",
      "source": [
        "for i in reversed(range(1,6)):\n",
        "  print(i)"
      ],
      "metadata": {
        "colab": {
          "base_uri": "https://localhost:8080/"
        },
        "id": "7gSJiFqrHV_6",
        "outputId": "01416fef-b6d8-4280-8db9-5505b8b59ff9"
      },
      "execution_count": 7,
      "outputs": [
        {
          "output_type": "stream",
          "name": "stdout",
          "text": [
            "5\n",
            "4\n",
            "3\n",
            "2\n",
            "1\n"
          ]
        }
      ]
    }
  ]
}