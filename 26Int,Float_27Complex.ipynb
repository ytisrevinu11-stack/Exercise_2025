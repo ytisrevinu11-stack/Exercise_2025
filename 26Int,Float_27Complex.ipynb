{
  "nbformat": 4,
  "nbformat_minor": 0,
  "metadata": {
    "colab": {
      "provenance": [],
      "authorship_tag": "ABX9TyMNoKOtQ7q/ibIr2JxWgunr",
      "include_colab_link": true
    },
    "kernelspec": {
      "name": "python3",
      "display_name": "Python 3"
    },
    "language_info": {
      "name": "python"
    }
  },
  "cells": [
    {
      "cell_type": "markdown",
      "metadata": {
        "id": "view-in-github",
        "colab_type": "text"
      },
      "source": [
        "<a href=\"https://colab.research.google.com/github/ytisrevinu11-stack/Exercise_2025/blob/main/26Int%2CFloat_27Complex.ipynb\" target=\"_parent\"><img src=\"https://colab.research.google.com/assets/colab-badge.svg\" alt=\"Open In Colab\"/></a>"
      ]
    },
    {
      "cell_type": "markdown",
      "source": [
        "026"
      ],
      "metadata": {
        "id": "B9mJfqaeL_IV"
      }
    },
    {
      "cell_type": "code",
      "execution_count": 1,
      "metadata": {
        "id": "16ynLx78Lwih"
      },
      "outputs": [],
      "source": [
        "intData1 = 20          #10진수 정수로 선언"
      ]
    },
    {
      "cell_type": "code",
      "source": [
        "octData = 0o24         #정수 20을 8진수로 선언. 0o는 8진수임을 나타냄\n",
        "hexData = 0x14         #정수 20을 16진수로 선언. 0x는 16진수임을 나타냄"
      ],
      "metadata": {
        "id": "DqZPLI7lMIg_"
      },
      "execution_count": 3,
      "outputs": []
    },
    {
      "cell_type": "code",
      "source": [
        "fData1 = 1.0\n",
        "fData2 = 2."
      ],
      "metadata": {
        "id": "uigUDSN3MqZ_"
      },
      "execution_count": 4,
      "outputs": []
    },
    {
      "cell_type": "code",
      "source": [
        "intData1 = 5\n",
        "intData2 = 10\n",
        "ret = intData2 / intData1\n",
        "print(type(ret))"
      ],
      "metadata": {
        "colab": {
          "base_uri": "https://localhost:8080/"
        },
        "id": "x-4HEbxUMxKD",
        "outputId": "9a75a6c5-357a-4872-c1f8-8115c123917d"
      },
      "execution_count": 5,
      "outputs": [
        {
          "output_type": "stream",
          "name": "stdout",
          "text": [
            "<class 'float'>\n"
          ]
        }
      ]
    },
    {
      "cell_type": "code",
      "source": [
        "from typing_extensions import TypeVarTuple\n",
        "numData = 2e2     #200\n",
        "print(type(numData))"
      ],
      "metadata": {
        "colab": {
          "base_uri": "https://localhost:8080/"
        },
        "id": "RZkVijBLM_IV",
        "outputId": "bab0b74f-c7d4-4c64-c19d-95b41d561937"
      },
      "execution_count": 6,
      "outputs": [
        {
          "output_type": "stream",
          "name": "stdout",
          "text": [
            "<class 'float'>\n"
          ]
        }
      ]
    },
    {
      "cell_type": "markdown",
      "source": [
        "027"
      ],
      "metadata": {
        "id": "KRAJ2fcPNLxw"
      }
    },
    {
      "cell_type": "code",
      "source": [
        "cData1 = 1 + 1j\n",
        "cData2 = complex(1,1)\n",
        "print(cData1 == cData2)"
      ],
      "metadata": {
        "colab": {
          "base_uri": "https://localhost:8080/"
        },
        "id": "UsDQp6L_NJob",
        "outputId": "e0311de4-08c0-4eda-cde5-2add90062ee2"
      },
      "execution_count": 7,
      "outputs": [
        {
          "output_type": "stream",
          "name": "stdout",
          "text": [
            "True\n"
          ]
        }
      ]
    },
    {
      "cell_type": "code",
      "source": [
        "print(cData1.real)          #복소수 자료 cData1의 실수부 추출\n",
        "print(cData2.imag)          #복소수 자료 cData2의 허수부 추출"
      ],
      "metadata": {
        "colab": {
          "base_uri": "https://localhost:8080/"
        },
        "id": "U3VOIyoENY3g",
        "outputId": "bbddcd0f-2559-47a4-c62f-8ddbf89aa1a8"
      },
      "execution_count": 8,
      "outputs": [
        {
          "output_type": "stream",
          "name": "stdout",
          "text": [
            "1.0\n",
            "1.0\n"
          ]
        }
      ]
    },
    {
      "cell_type": "code",
      "source": [
        "complexData1 = 1 - 5j\n",
        "complexData2 = complex(2, 3)\n",
        "print(complexData1.conjugate())\n",
        "print(complexData2.conjugate())"
      ],
      "metadata": {
        "colab": {
          "base_uri": "https://localhost:8080/"
        },
        "id": "f99wLIY6Nv34",
        "outputId": "2d63517c-dfbd-4208-8d66-00507f578c72"
      },
      "execution_count": 9,
      "outputs": [
        {
          "output_type": "stream",
          "name": "stdout",
          "text": [
            "(1+5j)\n",
            "(2-3j)\n"
          ]
        }
      ]
    }
  ]
}