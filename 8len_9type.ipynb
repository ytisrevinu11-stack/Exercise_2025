{
  "nbformat": 4,
  "nbformat_minor": 0,
  "metadata": {
    "colab": {
      "provenance": [],
      "authorship_tag": "ABX9TyOVw8jlPNhBwvS6eZBHXJ/a",
      "include_colab_link": true
    },
    "kernelspec": {
      "name": "python3",
      "display_name": "Python 3"
    },
    "language_info": {
      "name": "python"
    }
  },
  "cells": [
    {
      "cell_type": "markdown",
      "metadata": {
        "id": "view-in-github",
        "colab_type": "text"
      },
      "source": [
        "<a href=\"https://colab.research.google.com/github/ytisrevinu11-stack/Exercise_2025/blob/main/8len_9type.ipynb\" target=\"_parent\"><img src=\"https://colab.research.google.com/assets/colab-badge.svg\" alt=\"Open In Colab\"/></a>"
      ]
    },
    {
      "cell_type": "markdown",
      "source": [
        "008"
      ],
      "metadata": {
        "id": "_WFrsQjJYf30"
      }
    },
    {
      "cell_type": "code",
      "execution_count": 1,
      "metadata": {
        "colab": {
          "base_uri": "https://localhost:8080/"
        },
        "id": "H9MoYNkUWwIj",
        "outputId": "9aafd676-3532-49ca-c370-778779622a64"
      },
      "outputs": [
        {
          "output_type": "stream",
          "name": "stdout",
          "text": [
            "14\n"
          ]
        }
      ],
      "source": [
        "strData = 'I love python!'\n",
        "print(len(strData))"
      ]
    },
    {
      "cell_type": "code",
      "source": [
        "listData = [1, 2, 3, 4, 5]\n",
        "print(len(listData))"
      ],
      "metadata": {
        "colab": {
          "base_uri": "https://localhost:8080/"
        },
        "id": "tHxC9rw9Y715",
        "outputId": "08de1b3a-d152-442c-f569-b62986f71603"
      },
      "execution_count": 2,
      "outputs": [
        {
          "output_type": "stream",
          "name": "stdout",
          "text": [
            "5\n"
          ]
        }
      ]
    },
    {
      "cell_type": "code",
      "source": [
        "tupleData = ('a', 'bc', 'def')\n",
        "print(len(tupleData))"
      ],
      "metadata": {
        "colab": {
          "base_uri": "https://localhost:8080/"
        },
        "id": "DYBvCU1KZLIF",
        "outputId": "d5f8c45e-7d3b-442d-e9d1-bf59b12c566e"
      },
      "execution_count": 3,
      "outputs": [
        {
          "output_type": "stream",
          "name": "stdout",
          "text": [
            "3\n"
          ]
        }
      ]
    },
    {
      "cell_type": "code",
      "source": [
        "setData = {'cup', 'shoes', 'shirts', 'pants'}\n",
        "print(len(setData))"
      ],
      "metadata": {
        "colab": {
          "base_uri": "https://localhost:8080/"
        },
        "id": "0qSwdCrYZydO",
        "outputId": "d1602574-cc71-47f3-85c8-1af36384f2cb"
      },
      "execution_count": 4,
      "outputs": [
        {
          "output_type": "stream",
          "name": "stdout",
          "text": [
            "4\n"
          ]
        }
      ]
    },
    {
      "cell_type": "code",
      "source": [
        "dictData = {1:True, 0:False}\n",
        "print(len(dictData))"
      ],
      "metadata": {
        "colab": {
          "base_uri": "https://localhost:8080/"
        },
        "id": "AQ-VAHQ1aGQl",
        "outputId": "da164f4e-de39-4ff4-84ef-586ed9d6364f"
      },
      "execution_count": 5,
      "outputs": [
        {
          "output_type": "stream",
          "name": "stdout",
          "text": [
            "2\n"
          ]
        }
      ]
    },
    {
      "cell_type": "markdown",
      "source": [
        "009"
      ],
      "metadata": {
        "id": "16j2fugpaol0"
      }
    },
    {
      "cell_type": "code",
      "source": [
        "intData = 1\n",
        "print(type(intData))"
      ],
      "metadata": {
        "colab": {
          "base_uri": "https://localhost:8080/"
        },
        "id": "QbcyClmbanLY",
        "outputId": "19d4c731-0b7b-407c-9466-696dd68cff98"
      },
      "execution_count": 6,
      "outputs": [
        {
          "output_type": "stream",
          "name": "stdout",
          "text": [
            "<class 'int'>\n"
          ]
        }
      ]
    },
    {
      "cell_type": "code",
      "source": [
        "strData = 'I love python!'\n",
        "print(type(strData))"
      ],
      "metadata": {
        "colab": {
          "base_uri": "https://localhost:8080/"
        },
        "id": "Q0vjlCRua6gu",
        "outputId": "e4da8cf2-9874-4df2-dfab-353f910ce153"
      },
      "execution_count": 8,
      "outputs": [
        {
          "output_type": "stream",
          "name": "stdout",
          "text": [
            "<class 'str'>\n"
          ]
        }
      ]
    },
    {
      "cell_type": "code",
      "source": [],
      "metadata": {
        "id": "onetH3c_bGhB"
      },
      "execution_count": null,
      "outputs": []
    }
  ]
}